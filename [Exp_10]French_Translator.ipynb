{
 "cells": [
  {
   "cell_type": "code",
   "execution_count": 1,
   "id": "9938dbe4",
   "metadata": {},
   "outputs": [
    {
     "name": "stdout",
     "output_type": "stream",
     "text": [
      "2.6.0\n"
     ]
    }
   ],
   "source": [
    "import tensorflow\n",
    "\n",
    "print(tensorflow.__version__)"
   ]
  },
  {
   "cell_type": "code",
   "execution_count": 2,
   "id": "fa1b6a4a",
   "metadata": {},
   "outputs": [
    {
     "name": "stdout",
     "output_type": "stream",
     "text": [
      "전체 샘플의 수 : 197463\n"
     ]
    },
    {
     "data": {
      "text/html": [
       "<div>\n",
       "<style scoped>\n",
       "    .dataframe tbody tr th:only-of-type {\n",
       "        vertical-align: middle;\n",
       "    }\n",
       "\n",
       "    .dataframe tbody tr th {\n",
       "        vertical-align: top;\n",
       "    }\n",
       "\n",
       "    .dataframe thead th {\n",
       "        text-align: right;\n",
       "    }\n",
       "</style>\n",
       "<table border=\"1\" class=\"dataframe\">\n",
       "  <thead>\n",
       "    <tr style=\"text-align: right;\">\n",
       "      <th></th>\n",
       "      <th>eng</th>\n",
       "      <th>fra</th>\n",
       "      <th>cc</th>\n",
       "    </tr>\n",
       "  </thead>\n",
       "  <tbody>\n",
       "    <tr>\n",
       "      <th>87119</th>\n",
       "      <td>I don't know if I can stay.</td>\n",
       "      <td>Je ne sais pas si je peux rester.</td>\n",
       "      <td>CC-BY 2.0 (France) Attribution: tatoeba.org #2...</td>\n",
       "    </tr>\n",
       "    <tr>\n",
       "      <th>192777</th>\n",
       "      <td>As soon as I can afford it, I plan to travel a...</td>\n",
       "      <td>Dès que j'en ai les moyens, je prévois de voya...</td>\n",
       "      <td>CC-BY 2.0 (France) Attribution: tatoeba.org #9...</td>\n",
       "    </tr>\n",
       "    <tr>\n",
       "      <th>132523</th>\n",
       "      <td>They wouldn't have done anything.</td>\n",
       "      <td>Ils n'auraient rien fait.</td>\n",
       "      <td>CC-BY 2.0 (France) Attribution: tatoeba.org #3...</td>\n",
       "    </tr>\n",
       "    <tr>\n",
       "      <th>175143</th>\n",
       "      <td>He is as smart as any other boy in the class.</td>\n",
       "      <td>Il est aussi intelligent que n'importe quel au...</td>\n",
       "      <td>CC-BY 2.0 (France) Attribution: tatoeba.org #2...</td>\n",
       "    </tr>\n",
       "    <tr>\n",
       "      <th>106276</th>\n",
       "      <td>Tom is left-handed, isn't he?</td>\n",
       "      <td>Tom est gaucher, n'est-ce pas ?</td>\n",
       "      <td>CC-BY 2.0 (France) Attribution: tatoeba.org #6...</td>\n",
       "    </tr>\n",
       "  </tbody>\n",
       "</table>\n",
       "</div>"
      ],
      "text/plain": [
       "                                                      eng  \\\n",
       "87119                         I don't know if I can stay.   \n",
       "192777  As soon as I can afford it, I plan to travel a...   \n",
       "132523                  They wouldn't have done anything.   \n",
       "175143      He is as smart as any other boy in the class.   \n",
       "106276                      Tom is left-handed, isn't he?   \n",
       "\n",
       "                                                      fra  \\\n",
       "87119                   Je ne sais pas si je peux rester.   \n",
       "192777  Dès que j'en ai les moyens, je prévois de voya...   \n",
       "132523                          Ils n'auraient rien fait.   \n",
       "175143  Il est aussi intelligent que n'importe quel au...   \n",
       "106276                    Tom est gaucher, n'est-ce pas ?   \n",
       "\n",
       "                                                       cc  \n",
       "87119   CC-BY 2.0 (France) Attribution: tatoeba.org #2...  \n",
       "192777  CC-BY 2.0 (France) Attribution: tatoeba.org #9...  \n",
       "132523  CC-BY 2.0 (France) Attribution: tatoeba.org #3...  \n",
       "175143  CC-BY 2.0 (France) Attribution: tatoeba.org #2...  \n",
       "106276  CC-BY 2.0 (France) Attribution: tatoeba.org #6...  "
      ]
     },
     "execution_count": 2,
     "metadata": {},
     "output_type": "execute_result"
    }
   ],
   "source": [
    "import pandas as pd\n",
    "from tensorflow.keras.preprocessing.text import Tokenizer\n",
    "from tensorflow.keras.preprocessing.sequence import pad_sequences\n",
    "from tensorflow.keras.utils import to_categorical\n",
    "import numpy as np\n",
    "\n",
    "import os\n",
    "file_path = os.getenv('HOME')+'/aiffel/translator_seq2seq/data/fra.txt'\n",
    "lines = pd.read_csv(file_path, names=['eng', 'fra', 'cc'], sep='\\t')\n",
    "print('전체 샘플의 수 :',len(lines))\n",
    "lines.sample(5) #샘플 5개 출력"
   ]
  },
  {
   "cell_type": "code",
   "execution_count": 3,
   "id": "a4db8ae1",
   "metadata": {},
   "outputs": [
    {
     "data": {
      "text/html": [
       "<div>\n",
       "<style scoped>\n",
       "    .dataframe tbody tr th:only-of-type {\n",
       "        vertical-align: middle;\n",
       "    }\n",
       "\n",
       "    .dataframe tbody tr th {\n",
       "        vertical-align: top;\n",
       "    }\n",
       "\n",
       "    .dataframe thead th {\n",
       "        text-align: right;\n",
       "    }\n",
       "</style>\n",
       "<table border=\"1\" class=\"dataframe\">\n",
       "  <thead>\n",
       "    <tr style=\"text-align: right;\">\n",
       "      <th></th>\n",
       "      <th>eng</th>\n",
       "      <th>fra</th>\n",
       "    </tr>\n",
       "  </thead>\n",
       "  <tbody>\n",
       "    <tr>\n",
       "      <th>14617</th>\n",
       "      <td>I won the fight.</td>\n",
       "      <td>J'ai gagné le combat.</td>\n",
       "    </tr>\n",
       "    <tr>\n",
       "      <th>14403</th>\n",
       "      <td>I often do that.</td>\n",
       "      <td>Je le fais beaucoup.</td>\n",
       "    </tr>\n",
       "    <tr>\n",
       "      <th>43135</th>\n",
       "      <td>I thought you'd left.</td>\n",
       "      <td>Je pensais que vous étiez partis.</td>\n",
       "    </tr>\n",
       "    <tr>\n",
       "      <th>2073</th>\n",
       "      <td>I was good.</td>\n",
       "      <td>J'ai été bon.</td>\n",
       "    </tr>\n",
       "    <tr>\n",
       "      <th>21057</th>\n",
       "      <td>Tom is coming to.</td>\n",
       "      <td>Tom reprend conscience.</td>\n",
       "    </tr>\n",
       "  </tbody>\n",
       "</table>\n",
       "</div>"
      ],
      "text/plain": [
       "                         eng                                fra\n",
       "14617       I won the fight.              J'ai gagné le combat.\n",
       "14403       I often do that.               Je le fais beaucoup.\n",
       "43135  I thought you'd left.  Je pensais que vous étiez partis.\n",
       "2073             I was good.                      J'ai été bon.\n",
       "21057      Tom is coming to.            Tom reprend conscience."
      ]
     },
     "execution_count": 3,
     "metadata": {},
     "output_type": "execute_result"
    }
   ],
   "source": [
    "lines = lines[['eng', 'fra']][:50000] # 5만개 샘플 사용\n",
    "lines.sample(5)"
   ]
  },
  {
   "cell_type": "markdown",
   "id": "5ecb2dd3",
   "metadata": {},
   "source": [
    "Step 1. 정제, 정규화, 전처리 (영어, 프랑스어 모두!)"
   ]
  },
  {
   "cell_type": "code",
   "execution_count": 4,
   "id": "b42ed638",
   "metadata": {},
   "outputs": [],
   "source": [
    "PUNCTUATION_REGEX = r'''[!\"#$%&'()*+,-./:;<=>?@[\\]^_`{|}~]'''\n",
    "lines[\"eng\"] = lines[\"eng\"].str.replace(PUNCTUATION_REGEX, r' \\g<0> ', regex=True)\n",
    "lines[\"fra\"] = lines[\"fra\"].str.replace(PUNCTUATION_REGEX, r' \\g<0> ', regex=True)\n",
    "lines['eng'] = lines['eng'].str.rstrip()\n",
    "lines['fra'] = lines['fra'].str.rstrip()\n",
    "lines['eng'] = lines['eng'].str.lower()\n",
    "lines['fra'] = lines['fra'].str.lower()"
   ]
  },
  {
   "cell_type": "markdown",
   "id": "626b306a",
   "metadata": {},
   "source": [
    "Step 2. 디코더의 문장에 시작 토큰과 종료 토큰을 넣어주세요."
   ]
  },
  {
   "cell_type": "code",
   "execution_count": 5,
   "id": "519bee6a",
   "metadata": {},
   "outputs": [
    {
     "name": "stdout",
     "output_type": "stream",
     "text": [
      "전체 샘플의 수 : 50000\n"
     ]
    },
    {
     "data": {
      "text/html": [
       "<div>\n",
       "<style scoped>\n",
       "    .dataframe tbody tr th:only-of-type {\n",
       "        vertical-align: middle;\n",
       "    }\n",
       "\n",
       "    .dataframe tbody tr th {\n",
       "        vertical-align: top;\n",
       "    }\n",
       "\n",
       "    .dataframe thead th {\n",
       "        text-align: right;\n",
       "    }\n",
       "</style>\n",
       "<table border=\"1\" class=\"dataframe\">\n",
       "  <thead>\n",
       "    <tr style=\"text-align: right;\">\n",
       "      <th></th>\n",
       "      <th>eng</th>\n",
       "      <th>fra</th>\n",
       "    </tr>\n",
       "  </thead>\n",
       "  <tbody>\n",
       "    <tr>\n",
       "      <th>49831</th>\n",
       "      <td>i know a lot about it .</td>\n",
       "      <td>\\t j ' en sais beaucoup à ce sujet . \\n</td>\n",
       "    </tr>\n",
       "    <tr>\n",
       "      <th>32878</th>\n",
       "      <td>tom was distressed .</td>\n",
       "      <td>\\t tom était secoué . \\n</td>\n",
       "    </tr>\n",
       "    <tr>\n",
       "      <th>8056</th>\n",
       "      <td>it ' s a weapon .</td>\n",
       "      <td>\\t il s ' agit d ' une arme . \\n</td>\n",
       "    </tr>\n",
       "    <tr>\n",
       "      <th>15410</th>\n",
       "      <td>my suit is gray .</td>\n",
       "      <td>\\t mon costume est gris . \\n</td>\n",
       "    </tr>\n",
       "    <tr>\n",
       "      <th>38603</th>\n",
       "      <td>they ' re all waiting .</td>\n",
       "      <td>\\t ils sont tous en train d ' attendre . \\n</td>\n",
       "    </tr>\n",
       "  </tbody>\n",
       "</table>\n",
       "</div>"
      ],
      "text/plain": [
       "                           eng                                          fra\n",
       "49831  i know a lot about it .      \\t j ' en sais beaucoup à ce sujet . \\n\n",
       "32878     tom was distressed .                     \\t tom était secoué . \\n\n",
       "8056         it ' s a weapon .             \\t il s ' agit d ' une arme . \\n\n",
       "15410        my suit is gray .                 \\t mon costume est gris . \\n\n",
       "38603  they ' re all waiting .  \\t ils sont tous en train d ' attendre . \\n"
      ]
     },
     "execution_count": 5,
     "metadata": {},
     "output_type": "execute_result"
    }
   ],
   "source": [
    "# 시작 토큰과 종료 토큰 추가\n",
    "sos_token = '\\t'\n",
    "eos_token = '\\n'\n",
    "lines.fra = lines.fra.apply(lambda x : '\\t '+ x + ' \\n')\n",
    "print('전체 샘플의 수 :',len(lines))\n",
    "lines.sample(5)"
   ]
  },
  {
   "cell_type": "markdown",
   "id": "e198541b",
   "metadata": {},
   "source": [
    "Step 3. 케라스의 토크나이저로 텍스트를 숫자로 바꿔보세요."
   ]
  },
  {
   "cell_type": "code",
   "execution_count": 6,
   "id": "7ac73142",
   "metadata": {},
   "outputs": [
    {
     "data": {
      "text/plain": [
       "[[34, 1], [34, 1], [34, 1]]"
      ]
     },
     "execution_count": 6,
     "metadata": {},
     "output_type": "execute_result"
    }
   ],
   "source": [
    "eng_tokenizer = Tokenizer(filters = ' ') \n",
    "eng_tokenizer.fit_on_texts(lines.eng)              \n",
    "input_text = eng_tokenizer.texts_to_sequences(lines.eng)  \n",
    "input_text[:3]"
   ]
  },
  {
   "cell_type": "code",
   "execution_count": 7,
   "id": "6eacf3b8",
   "metadata": {},
   "outputs": [
    {
     "data": {
      "text/plain": [
       "[[1, 92, 15, 2], [1, 437, 3, 2], [1, 30, 603, 15, 2]]"
      ]
     },
     "execution_count": 7,
     "metadata": {},
     "output_type": "execute_result"
    }
   ],
   "source": [
    "fra_tokenizer = Tokenizer(filters = ' ')   # 문자 단위로 Tokenizer를 생성합니다. \n",
    "fra_tokenizer.fit_on_texts(lines.fra)                 \n",
    "target_text = fra_tokenizer.texts_to_sequences(lines.fra)     \n",
    "target_text[:3]"
   ]
  },
  {
   "cell_type": "code",
   "execution_count": 8,
   "id": "03dbaf97",
   "metadata": {},
   "outputs": [
    {
     "name": "stdout",
     "output_type": "stream",
     "text": [
      "영어 단어장의 크기 : 6042\n",
      "프랑스어 단어장의 크기 : 12207\n"
     ]
    }
   ],
   "source": [
    "eng_vocab_size = len(eng_tokenizer.word_index) + 1\n",
    "fra_vocab_size = len(fra_tokenizer.word_index) + 1\n",
    "print('영어 단어장의 크기 :', eng_vocab_size)\n",
    "print('프랑스어 단어장의 크기 :', fra_vocab_size)"
   ]
  },
  {
   "cell_type": "code",
   "execution_count": 9,
   "id": "a532493f",
   "metadata": {},
   "outputs": [
    {
     "name": "stdout",
     "output_type": "stream",
     "text": [
      "영어 시퀀스의 최대 길이 10\n",
      "프랑스어 시퀀스의 최대 길이 20\n"
     ]
    }
   ],
   "source": [
    "max_eng_seq_len = max([len(line) for line in input_text])\n",
    "max_fra_seq_len = max([len(line) for line in target_text])\n",
    "print('영어 시퀀스의 최대 길이', max_eng_seq_len)\n",
    "print('프랑스어 시퀀스의 최대 길이', max_fra_seq_len)"
   ]
  },
  {
   "cell_type": "code",
   "execution_count": 10,
   "id": "1c03ef0d",
   "metadata": {},
   "outputs": [
    {
     "name": "stdout",
     "output_type": "stream",
     "text": [
      "전체 샘플의 수 : 50000\n",
      "영어 단어장의 크기 : 6042\n",
      "프랑스어 단어장의 크기 : 12207\n",
      "영어 시퀀스의 최대 길이 10\n",
      "프랑스어 시퀀스의 최대 길이 20\n"
     ]
    }
   ],
   "source": [
    "print('전체 샘플의 수 :',len(lines))\n",
    "print('영어 단어장의 크기 :', eng_vocab_size)\n",
    "print('프랑스어 단어장의 크기 :', fra_vocab_size)\n",
    "print('영어 시퀀스의 최대 길이', max_eng_seq_len)\n",
    "print('프랑스어 시퀀스의 최대 길이', max_fra_seq_len)"
   ]
  },
  {
   "cell_type": "code",
   "execution_count": 11,
   "id": "a2e1cbae",
   "metadata": {},
   "outputs": [],
   "source": [
    "encoder_input = input_text\n",
    "# 종료 토큰 제거\n",
    "decoder_input = [[ char for char in line if char != fra_tokenizer.word_index[eos_token] ] for line in target_text] \n",
    "# 시작 토큰 제거\n",
    "decoder_target = [[ char for char in line if char != fra_tokenizer.word_index[sos_token] ] for line in target_text]"
   ]
  },
  {
   "cell_type": "code",
   "execution_count": 12,
   "id": "a72a26e0",
   "metadata": {},
   "outputs": [
    {
     "name": "stdout",
     "output_type": "stream",
     "text": [
      "[[1, 92, 15], [1, 437, 3], [1, 30, 603, 15]]\n",
      "[[92, 15, 2], [437, 3, 2], [30, 603, 15, 2]]\n"
     ]
    }
   ],
   "source": [
    "print(decoder_input[:3])\n",
    "print(decoder_target[:3])"
   ]
  },
  {
   "cell_type": "code",
   "execution_count": 13,
   "id": "7674cd38",
   "metadata": {},
   "outputs": [
    {
     "name": "stdout",
     "output_type": "stream",
     "text": [
      "영어 데이터의 크기(shape) : (50000, 10)\n",
      "프랑스어 입력데이터의 크기(shape) : (50000, 20)\n",
      "프랑스어 출력데이터의 크기(shape) : (50000, 20)\n"
     ]
    }
   ],
   "source": [
    "encoder_input = pad_sequences(encoder_input, maxlen = max_eng_seq_len, padding='post')\n",
    "decoder_input = pad_sequences(decoder_input, maxlen = max_fra_seq_len, padding='post')\n",
    "decoder_target = pad_sequences(decoder_target, maxlen = max_fra_seq_len, padding='post')\n",
    "print('영어 데이터의 크기(shape) :',np.shape(encoder_input))\n",
    "print('프랑스어 입력데이터의 크기(shape) :',np.shape(decoder_input))\n",
    "print('프랑스어 출력데이터의 크기(shape) :',np.shape(decoder_target))"
   ]
  },
  {
   "cell_type": "code",
   "execution_count": 14,
   "id": "fd6ba6df",
   "metadata": {},
   "outputs": [
    {
     "name": "stdout",
     "output_type": "stream",
     "text": [
      "[34  1  0  0  0  0  0  0  0  0]\n"
     ]
    }
   ],
   "source": [
    "print(encoder_input[0])"
   ]
  },
  {
   "cell_type": "code",
   "execution_count": 15,
   "id": "8cfa66c7",
   "metadata": {},
   "outputs": [
    {
     "name": "stdout",
     "output_type": "stream",
     "text": [
      "영어 데이터의 크기(shape) : (50000, 10)\n",
      "프랑스어 입력데이터의 크기(shape) : (50000, 20)\n",
      "프랑스어 출력데이터의 크기(shape) : (50000, 20)\n"
     ]
    }
   ],
   "source": [
    "# encoder_input = to_categorical(encoder_input)\n",
    "# decoder_input = to_categorical(decoder_input)\n",
    "# decoder_target = to_categorical(decoder_target)\n",
    "print('영어 데이터의 크기(shape) :',np.shape(encoder_input))\n",
    "print('프랑스어 입력데이터의 크기(shape) :',np.shape(decoder_input))\n",
    "print('프랑스어 출력데이터의 크기(shape) :',np.shape(decoder_target))"
   ]
  },
  {
   "cell_type": "code",
   "execution_count": 16,
   "id": "5b30722e",
   "metadata": {},
   "outputs": [
    {
     "name": "stdout",
     "output_type": "stream",
     "text": [
      "영어 학습데이터의 크기(shape) : (50000, 10)\n",
      "프랑스어 학습 입력데이터의 크기(shape) : (50000, 20)\n",
      "프랑스어 학습 출력데이터의 크기(shape) : (50000, 20)\n"
     ]
    }
   ],
   "source": [
    "n_of_val = 3000\n",
    "\n",
    "encoder_input_train = encoder_input[:-n_of_val]\n",
    "decoder_input_train = decoder_input[:-n_of_val]\n",
    "decoder_target_train = decoder_target[:-n_of_val]\n",
    "\n",
    "encoder_input_test = encoder_input[-n_of_val:]\n",
    "decoder_input_test = decoder_input[-n_of_val:]\n",
    "decoder_target_test = decoder_target[-n_of_val:]\n",
    "\n",
    "print('영어 학습데이터의 크기(shape) :',np.shape(encoder_input))\n",
    "print('프랑스어 학습 입력데이터의 크기(shape) :',np.shape(decoder_input))\n",
    "print('프랑스어 학습 출력데이터의 크기(shape) :',np.shape(decoder_target))"
   ]
  },
  {
   "cell_type": "markdown",
   "id": "ceceda23",
   "metadata": {},
   "source": [
    "Step 4. 임베딩 층(Embedding layer) 사용하기"
   ]
  },
  {
   "cell_type": "code",
   "execution_count": 17,
   "id": "170146c9",
   "metadata": {},
   "outputs": [],
   "source": [
    "from tensorflow.keras.layers import Input, LSTM, Embedding, Dense, Masking\n",
    "from tensorflow.keras.models import Model\n",
    "\n",
    "# 입력 텐서 생성.\n",
    "encoder_inputs = Input(shape=(None, ))\n",
    "enc_emb =  Embedding(fra_vocab_size, output_dim = 128)(encoder_inputs)\n",
    "enc_masking = Masking(mask_value=0.0)(enc_emb)\n",
    "encoder_lstm = LSTM(units = 128, return_state = True)\n",
    "encoder_outputs, state_h, state_c = encoder_lstm(enc_masking)\n",
    "encoder_states = [state_h, state_c]"
   ]
  },
  {
   "cell_type": "code",
   "execution_count": 18,
   "id": "6cff35ef",
   "metadata": {},
   "outputs": [],
   "source": [
    "# 인코더에서 사용할 임베딩 층 사용 예시\n",
    "decoder_inputs = Input(shape=(None,))\n",
    "dec_emb_layer =  Embedding(fra_vocab_size, output_dim = 128)\n",
    "dec_emb = dec_emb_layer(decoder_inputs)\n",
    "dec_masking = Masking(mask_value=0.0)(dec_emb)\n",
    "decoder_lstm = LSTM(units = 128, return_sequences = True, return_state=True)\n",
    "decoder_outputs, _, _= decoder_lstm(dec_masking, initial_state = encoder_states)\n",
    "\n",
    "decoder_softmax_layer =Dense(fra_vocab_size, activation='softmax')\n",
    "decoder_outputs = decoder_softmax_layer(decoder_outputs)"
   ]
  },
  {
   "cell_type": "markdown",
   "id": "98cddb87",
   "metadata": {},
   "source": [
    "Step 5. 모델 구현하기"
   ]
  },
  {
   "cell_type": "code",
   "execution_count": 19,
   "id": "cdd81ac0",
   "metadata": {},
   "outputs": [
    {
     "name": "stdout",
     "output_type": "stream",
     "text": [
      "Model: \"model\"\n",
      "__________________________________________________________________________________________________\n",
      "Layer (type)                    Output Shape         Param #     Connected to                     \n",
      "==================================================================================================\n",
      "input_1 (InputLayer)            [(None, None)]       0                                            \n",
      "__________________________________________________________________________________________________\n",
      "input_2 (InputLayer)            [(None, None)]       0                                            \n",
      "__________________________________________________________________________________________________\n",
      "embedding (Embedding)           (None, None, 128)    1562496     input_1[0][0]                    \n",
      "__________________________________________________________________________________________________\n",
      "embedding_1 (Embedding)         (None, None, 128)    1562496     input_2[0][0]                    \n",
      "__________________________________________________________________________________________________\n",
      "masking (Masking)               (None, None, 128)    0           embedding[0][0]                  \n",
      "__________________________________________________________________________________________________\n",
      "masking_1 (Masking)             (None, None, 128)    0           embedding_1[0][0]                \n",
      "__________________________________________________________________________________________________\n",
      "lstm (LSTM)                     [(None, 128), (None, 131584      masking[0][0]                    \n",
      "__________________________________________________________________________________________________\n",
      "lstm_1 (LSTM)                   [(None, None, 128),  131584      masking_1[0][0]                  \n",
      "                                                                 lstm[0][1]                       \n",
      "                                                                 lstm[0][2]                       \n",
      "__________________________________________________________________________________________________\n",
      "dense (Dense)                   (None, None, 12207)  1574703     lstm_1[0][0]                     \n",
      "==================================================================================================\n",
      "Total params: 4,962,863\n",
      "Trainable params: 4,962,863\n",
      "Non-trainable params: 0\n",
      "__________________________________________________________________________________________________\n"
     ]
    }
   ],
   "source": [
    "model = Model([encoder_inputs, decoder_inputs], decoder_outputs)\n",
    "model.compile(optimizer=\"rmsprop\", loss=\"sparse_categorical_crossentropy\")\n",
    "model.summary()"
   ]
  },
  {
   "cell_type": "code",
   "execution_count": 20,
   "id": "da47ff70",
   "metadata": {},
   "outputs": [
    {
     "name": "stdout",
     "output_type": "stream",
     "text": [
      "Epoch 1/30\n",
      "368/368 [==============================] - 24s 45ms/step - loss: 5.3248 - accuracy: 0.6469 - val_loss: 2.8622 - val_accuracy: 0.5932\n",
      "Epoch 2/30\n",
      "368/368 [==============================] - 14s 39ms/step - loss: 2.0569 - accuracy: 0.6540 - val_loss: 2.2522 - val_accuracy: 0.5932\n",
      "Epoch 3/30\n",
      "368/368 [==============================] - 14s 39ms/step - loss: 1.7276 - accuracy: 0.7007 - val_loss: 2.0354 - val_accuracy: 0.6821\n",
      "Epoch 4/30\n",
      "368/368 [==============================] - 14s 39ms/step - loss: 1.5670 - accuracy: 0.7607 - val_loss: 1.9097 - val_accuracy: 0.6988\n",
      "Epoch 5/30\n",
      "368/368 [==============================] - 15s 39ms/step - loss: 1.4656 - accuracy: 0.7669 - val_loss: 1.8186 - val_accuracy: 0.7077\n",
      "Epoch 6/30\n",
      "368/368 [==============================] - 14s 39ms/step - loss: 1.3947 - accuracy: 0.7788 - val_loss: 1.7506 - val_accuracy: 0.7262\n",
      "Epoch 7/30\n",
      "368/368 [==============================] - 14s 39ms/step - loss: 1.3384 - accuracy: 0.7898 - val_loss: 1.6967 - val_accuracy: 0.7371\n",
      "Epoch 8/30\n",
      "368/368 [==============================] - 15s 40ms/step - loss: 1.2922 - accuracy: 0.7961 - val_loss: 1.6473 - val_accuracy: 0.7436\n",
      "Epoch 9/30\n",
      "368/368 [==============================] - 15s 40ms/step - loss: 1.2520 - accuracy: 0.8027 - val_loss: 1.6051 - val_accuracy: 0.7512\n",
      "Epoch 10/30\n",
      "368/368 [==============================] - 15s 40ms/step - loss: 1.2141 - accuracy: 0.8098 - val_loss: 1.5602 - val_accuracy: 0.7607\n",
      "Epoch 11/30\n",
      "368/368 [==============================] - 15s 39ms/step - loss: 1.1806 - accuracy: 0.8149 - val_loss: 1.5245 - val_accuracy: 0.7644\n",
      "Epoch 12/30\n",
      "368/368 [==============================] - 15s 40ms/step - loss: 1.1525 - accuracy: 0.8181 - val_loss: 1.4950 - val_accuracy: 0.7684\n",
      "Epoch 13/30\n",
      "368/368 [==============================] - 15s 40ms/step - loss: 1.1284 - accuracy: 0.8214 - val_loss: 1.4749 - val_accuracy: 0.7709\n",
      "Epoch 14/30\n",
      "368/368 [==============================] - 15s 40ms/step - loss: 1.1074 - accuracy: 0.8243 - val_loss: 1.4536 - val_accuracy: 0.7738\n",
      "Epoch 15/30\n",
      "368/368 [==============================] - 15s 40ms/step - loss: 1.0887 - accuracy: 0.8267 - val_loss: 1.4353 - val_accuracy: 0.7766\n",
      "Epoch 16/30\n",
      "368/368 [==============================] - 15s 40ms/step - loss: 1.0715 - accuracy: 0.8293 - val_loss: 1.4186 - val_accuracy: 0.7796\n",
      "Epoch 17/30\n",
      "368/368 [==============================] - 15s 40ms/step - loss: 1.0561 - accuracy: 0.8314 - val_loss: 1.4066 - val_accuracy: 0.7801\n",
      "Epoch 18/30\n",
      "368/368 [==============================] - 15s 40ms/step - loss: 1.0421 - accuracy: 0.8332 - val_loss: 1.3919 - val_accuracy: 0.7813\n",
      "Epoch 19/30\n",
      "368/368 [==============================] - 15s 40ms/step - loss: 1.0290 - accuracy: 0.8346 - val_loss: 1.3820 - val_accuracy: 0.7824\n",
      "Epoch 20/30\n",
      "368/368 [==============================] - 15s 40ms/step - loss: 1.0168 - accuracy: 0.8361 - val_loss: 1.3681 - val_accuracy: 0.7841\n",
      "Epoch 21/30\n",
      "368/368 [==============================] - 15s 40ms/step - loss: 1.0053 - accuracy: 0.8376 - val_loss: 1.3594 - val_accuracy: 0.7849\n",
      "Epoch 22/30\n",
      "368/368 [==============================] - 15s 40ms/step - loss: 0.9943 - accuracy: 0.8389 - val_loss: 1.3508 - val_accuracy: 0.7862\n",
      "Epoch 23/30\n",
      "368/368 [==============================] - 15s 40ms/step - loss: 0.9839 - accuracy: 0.8403 - val_loss: 1.3356 - val_accuracy: 0.7890\n",
      "Epoch 24/30\n",
      "368/368 [==============================] - 15s 40ms/step - loss: 0.9738 - accuracy: 0.8418 - val_loss: 1.3304 - val_accuracy: 0.7893\n",
      "Epoch 25/30\n",
      "368/368 [==============================] - 15s 40ms/step - loss: 0.9641 - accuracy: 0.8434 - val_loss: 1.3176 - val_accuracy: 0.7911\n",
      "Epoch 26/30\n",
      "368/368 [==============================] - 15s 40ms/step - loss: 0.9547 - accuracy: 0.8449 - val_loss: 1.3097 - val_accuracy: 0.7925\n",
      "Epoch 27/30\n",
      "368/368 [==============================] - 15s 40ms/step - loss: 0.9457 - accuracy: 0.8462 - val_loss: 1.3032 - val_accuracy: 0.7934\n",
      "Epoch 28/30\n",
      "368/368 [==============================] - 15s 41ms/step - loss: 0.9370 - accuracy: 0.8476 - val_loss: 1.2942 - val_accuracy: 0.7952\n",
      "Epoch 29/30\n",
      "368/368 [==============================] - 15s 40ms/step - loss: 0.9285 - accuracy: 0.8487 - val_loss: 1.2864 - val_accuracy: 0.7954\n",
      "Epoch 30/30\n",
      "368/368 [==============================] - 15s 40ms/step - loss: 0.9203 - accuracy: 0.8496 - val_loss: 1.2779 - val_accuracy: 0.7968\n"
     ]
    }
   ],
   "source": [
    "import tensorflow as tf\n",
    "from tensorflow.keras.optimizers import RMSprop\n",
    "\n",
    "tf.random.set_seed(2)\n",
    "\n",
    "opt = RMSprop(learning_rate=0.0001)\n",
    "model.compile(opt,\n",
    "              loss='sparse_categorical_crossentropy',\n",
    "              metrics=['accuracy'])\n",
    "              \n",
    "history = model.fit(x=[encoder_input_train, decoder_input_train], y=decoder_target_train, \\\n",
    "          validation_data = ([encoder_input_test, decoder_input_test], decoder_target_test),\n",
    "          batch_size=128, epochs=30)"
   ]
  },
  {
   "cell_type": "markdown",
   "id": "47583865",
   "metadata": {},
   "source": [
    "Step 6. 모델 평가하기"
   ]
  },
  {
   "cell_type": "code",
   "execution_count": 21,
   "id": "e1fa1747",
   "metadata": {},
   "outputs": [
    {
     "name": "stdout",
     "output_type": "stream",
     "text": [
      "Model: \"model_1\"\n",
      "_________________________________________________________________\n",
      "Layer (type)                 Output Shape              Param #   \n",
      "=================================================================\n",
      "input_1 (InputLayer)         [(None, None)]            0         \n",
      "_________________________________________________________________\n",
      "embedding (Embedding)        (None, None, 128)         1562496   \n",
      "_________________________________________________________________\n",
      "masking (Masking)            (None, None, 128)         0         \n",
      "_________________________________________________________________\n",
      "lstm (LSTM)                  [(None, 128), (None, 128) 131584    \n",
      "=================================================================\n",
      "Total params: 1,694,080\n",
      "Trainable params: 1,694,080\n",
      "Non-trainable params: 0\n",
      "_________________________________________________________________\n"
     ]
    }
   ],
   "source": [
    "encoder_model = Model(inputs = encoder_inputs, outputs = encoder_states)\n",
    "encoder_model.summary()"
   ]
  },
  {
   "cell_type": "code",
   "execution_count": 22,
   "id": "fa0d2d64",
   "metadata": {},
   "outputs": [],
   "source": [
    "decoder_state_input_h = Input(shape=(128,))\n",
    "decoder_state_input_c = Input(shape=(128,))\n",
    "decoder_states_inputs = [decoder_state_input_h, decoder_state_input_c]\n",
    "\n",
    "dec_emb2 = dec_emb_layer(decoder_inputs)\n",
    "decoder_outputs2, state_h2, state_c2 = decoder_lstm(dec_emb2, initial_state = decoder_states_inputs)\n",
    "# 현재 time step의 hidden state와 cell state를 하나의 변수에 저장.\n",
    "decoder_states2 = [state_h2, state_c2]"
   ]
  },
  {
   "cell_type": "code",
   "execution_count": 23,
   "id": "43b1389d",
   "metadata": {},
   "outputs": [
    {
     "name": "stdout",
     "output_type": "stream",
     "text": [
      "Model: \"model_2\"\n",
      "__________________________________________________________________________________________________\n",
      "Layer (type)                    Output Shape         Param #     Connected to                     \n",
      "==================================================================================================\n",
      "input_2 (InputLayer)            [(None, None)]       0                                            \n",
      "__________________________________________________________________________________________________\n",
      "embedding_1 (Embedding)         (None, None, 128)    1562496     input_2[0][0]                    \n",
      "__________________________________________________________________________________________________\n",
      "input_3 (InputLayer)            [(None, 128)]        0                                            \n",
      "__________________________________________________________________________________________________\n",
      "input_4 (InputLayer)            [(None, 128)]        0                                            \n",
      "__________________________________________________________________________________________________\n",
      "lstm_1 (LSTM)                   [(None, None, 128),  131584      embedding_1[1][0]                \n",
      "                                                                 input_3[0][0]                    \n",
      "                                                                 input_4[0][0]                    \n",
      "__________________________________________________________________________________________________\n",
      "dense (Dense)                   (None, None, 12207)  1574703     lstm_1[1][0]                     \n",
      "==================================================================================================\n",
      "Total params: 3,268,783\n",
      "Trainable params: 3,268,783\n",
      "Non-trainable params: 0\n",
      "__________________________________________________________________________________________________\n"
     ]
    }
   ],
   "source": [
    "decoder_outputs2 = decoder_softmax_layer(decoder_outputs2)\n",
    "decoder_model = Model(inputs=[decoder_inputs] + decoder_states_inputs, outputs=[decoder_outputs2] + decoder_states2)\n",
    "decoder_model.summary()"
   ]
  },
  {
   "cell_type": "code",
   "execution_count": 24,
   "id": "0b5dd58f",
   "metadata": {},
   "outputs": [],
   "source": [
    "eng2idx = eng_tokenizer.word_index\n",
    "fra2idx = fra_tokenizer.word_index\n",
    "idx2eng = eng_tokenizer.index_word\n",
    "idx2fra = fra_tokenizer.index_word"
   ]
  },
  {
   "cell_type": "code",
   "execution_count": 25,
   "id": "a8425221",
   "metadata": {},
   "outputs": [],
   "source": [
    "def decode_sequence(input_seq):\n",
    "    # 입력으로부터 인코더의 상태를 얻음\n",
    "    states_value = encoder_model.predict(input_seq)\n",
    "\n",
    "    # 에 해당하는 원-핫 벡터 생성\n",
    "    target_seq = np.zeros((1,1)) \n",
    "    target_seq[0, 0] = fra2idx['\\t']\n",
    "    \n",
    "    stop_condition = False\n",
    "    decoded_sentence = \"\"\n",
    "\n",
    "    # stop_condition이 True가 될 때까지 루프 반복\n",
    "    while not stop_condition:\n",
    "        # 이점 시점의 상태 states_value를 현 시점의 초기 상태로 사용\n",
    "        output_tokens, h, c = decoder_model.predict([target_seq] + states_value)\n",
    "\n",
    "        # 예측 결과를 문자로 변환\n",
    "        sampled_token_index = np.argmax(output_tokens[0, -1, :])\n",
    "        sampled_char = idx2fra[sampled_token_index]\n",
    "\n",
    "        # 현재 시점의 예측 문자를 예측 문장에 추가\n",
    "        decoded_sentence += ' '+sampled_char\n",
    "\n",
    "        # 에 도달하거나 최대 길이를 넘으면 중단.\n",
    "        if (sampled_char == '\\n' or\n",
    "           len(decoded_sentence) > max_fra_seq_len):\n",
    "            stop_condition = True\n",
    "\n",
    "        # 현재 시점의 예측 결과를 다음 시점의 입력으로 사용하기 위해 저장     \n",
    "        target_seq = np.zeros((1, 1))\n",
    "        target_seq[0, 0] = sampled_token_index\n",
    "\n",
    "        # 현재 시점의 상태를 다음 시점의 상태로 사용하기 위해 저장\n",
    "        states_value = [h, c]\n",
    "\n",
    "    return decoded_sentence"
   ]
  },
  {
   "cell_type": "code",
   "execution_count": 26,
   "id": "a513bf10",
   "metadata": {},
   "outputs": [],
   "source": [
    "# 원문의 정수 시퀀스를 텍스트 시퀀스로 변환\n",
    "def seq2src(input_seq):\n",
    "    temp=''\n",
    "    for i in input_seq:\n",
    "        if(i!=0):\n",
    "            temp = temp + idx2eng[i]+' '\n",
    "    return temp"
   ]
  },
  {
   "cell_type": "code",
   "execution_count": 27,
   "id": "339bd12f",
   "metadata": {},
   "outputs": [],
   "source": [
    "def seq2tar(input_seq):\n",
    "    temp=''\n",
    "    for i in input_seq:\n",
    "        if((i!=0 and i!=fra2idx['<start>']) and i!=fra2idx['<end>']):\n",
    "            temp = temp + idx2fra[i] + ' '\n",
    "    return temp"
   ]
  },
  {
   "cell_type": "code",
   "execution_count": 28,
   "id": "0b2732b0",
   "metadata": {},
   "outputs": [
    {
     "name": "stdout",
     "output_type": "stream",
     "text": [
      "-----------------------------------\n",
      "입력 문장: run !\n",
      "정답 문장:  courez  ! \n",
      "번역기가 번역한 문장:  ! \n",
      "-----------------------------------\n",
      "입력 문장: oh no !\n",
      "정답 문장:  oh non  ! \n",
      "번역기가 번역한 문장:  quelle n ' est - vou\n",
      "-----------------------------------\n",
      "입력 문장: you win .\n",
      "정답 문장:  vous avez gagné . \n",
      "번역기가 번역한 문장:  vous avez l ' air . \n",
      "-----------------------------------\n",
      "입력 문장: get lost .\n",
      "정답 문장:  fiche le camp . \n",
      "번역기가 번역한 문장:  soyez ! \n",
      "-----------------------------------\n",
      "입력 문장: hands off .\n",
      "정답 문장:  ne touche pas à ça  ! \n",
      "번역기가 번역한 문장:  arrête - toi . \n"
     ]
    }
   ],
   "source": [
    "import numpy as np\n",
    "for seq_index in [7,58,445,534,985]: # 입력 문장의 인덱스 (자유롭게 선택해 보세요)\n",
    "    input_seq = encoder_input[seq_index: seq_index + 1]\n",
    "    decoded_sentence = decode_sequence(input_seq)\n",
    "    print(35 * \"-\")\n",
    "    print('입력 문장:', lines.eng[seq_index])\n",
    "    print('정답 문장:', lines.fra[seq_index][1:len(lines.fra[seq_index])-1]) # '\\t'와 '\\n'을 빼고 출력\n",
    "    print('번역기가 번역한 문장:', decoded_sentence[:len(decoded_sentence)-1]) # '\\n'을 빼고 출력"
   ]
  },
  {
   "cell_type": "code",
   "execution_count": 29,
   "id": "c8db69e9",
   "metadata": {},
   "outputs": [
    {
     "name": "stdout",
     "output_type": "stream",
     "text": [
      "dict_keys(['loss', 'accuracy', 'val_loss', 'val_accuracy'])\n"
     ]
    }
   ],
   "source": [
    "history_dict = history.history\n",
    "print(history_dict.keys()) "
   ]
  },
  {
   "cell_type": "code",
   "execution_count": 30,
   "id": "25f614f5",
   "metadata": {},
   "outputs": [
    {
     "data": {
      "image/png": "[encoded data removed]",
      "text/plain": [
       "<Figure size 432x288 with 1 Axes>"
      ]
     },
     "metadata": {
      "needs_background": "light"
     },
     "output_type": "display_data"
    }
   ],
   "source": [
    "import matplotlib.pyplot as plt\n",
    "\n",
    "acc = history_dict['accuracy']\n",
    "val_acc = history_dict['val_accuracy']\n",
    "loss = history_dict['loss']\n",
    "val_loss = history_dict['val_loss']\n",
    "\n",
    "epochs = range(1, len(acc) + 1)\n",
    "\n",
    "plt.plot(epochs, loss, 'bo', label='Training loss')\n",
    "plt.plot(epochs, val_loss, 'b', label='Validation loss')\n",
    "plt.title('Training and validation loss')\n",
    "plt.xlabel('Epochs')\n",
    "plt.ylabel('Loss')\n",
    "plt.legend()\n",
    "\n",
    "plt.show()"
   ]
  },
  {
   "cell_type": "code",
   "execution_count": 31,
   "id": "ade329e7",
   "metadata": {},
   "outputs": [
    {
     "data": {
      "image/png": "[encoded data removed]",
      "text/plain": [
       "<Figure size 432x288 with 1 Axes>"
      ]
     },
     "metadata": {
      "needs_background": "light"
     },
     "output_type": "display_data"
    }
   ],
   "source": [
    "plt.clf()  \n",
    "plt.plot(epochs, acc, 'bo', label='Training acc')\n",
    "plt.plot(epochs, val_acc, 'b', label='Validation acc')\n",
    "plt.title('Training and validation accuracy')\n",
    "plt.xlabel('Epochs')\n",
    "plt.ylabel('Accuracy')\n",
    "plt.legend()\n",
    "\n",
    "plt.show()"
   ]
  },
  {
   "cell_type": "markdown",
   "id": "300e4d20",
   "metadata": {},
   "source": [
    "*번역 결과*"
   ]
  },
  {
   "cell_type": "code",
   "execution_count": 32,
   "id": "83c35e2c",
   "metadata": {},
   "outputs": [],
   "source": [
    "# -----------------------------------\n",
    "# 입력 문장: run ! (달려!)\n",
    "# 정답 문장:  courez  !  (달려!)\n",
    "# 번역기가 번역한 문장:  soyez ! (어서!)\n",
    "# -----------------------------------\n",
    "# 입력 문장: oh no ! (안돼!)\n",
    "# 정답 문장:  oh non  !  (안돼!)\n",
    "# 번역기가 번역한 문장:  quelle êtes !  (뭐야!)\n",
    "# -----------------------------------\n",
    "# 입력 문장: you win . (너가 이겼다.)\n",
    "# 정답 문장:  vous avez gagné . (당신이 이겼습니다.)\n",
    "# 번역기가 번역한 문장:  tu es .  (너는 대단하구나.)\n",
    "# -----------------------------------\n",
    "# 입력 문장: get lost . (꺼져)\n",
    "# 정답 문장:  fiche le camp . (꺼져라)\n",
    "# 번역기가 번역한 문장:  laisse - toi ! (그만둬!)\n",
    "# -----------------------------------\n",
    "# 입력 문장: hands off . (손을 대지 마시오.)\n",
    "# 정답 문장:  ne touche pas à ça  !  (손대지 마!)\n",
    "# 번역기가 번역한 문장:  arrête de le . (그만 해라.)"
   ]
  },
  {
   "cell_type": "code",
   "execution_count": 33,
   "id": "63f44ee7",
   "metadata": {},
   "outputs": [],
   "source": [
    "#회고\n",
    "# - 이번 프로젝트에서 어려웠던 점\n",
    "# : 구두점을 토크나이저로 나누는게 참 어려웠다.\n",
    "# - 프로젝트를 진행하면서 알아낸 점 혹은 아직 모호한 점\n",
    "# : eng_tokenizer = Tokenizer(filters = ' ')를 통해 문자를 ' ' 단위로 자를 수 있다.\n",
    "# - 루브릭 평가 지표를 맞추기 위해 시도한 것들:\n",
    "# : PUNCTUATION_REGEX = r'''[!\"#$%&'()*+,-./:;<=>?@[\\]^_`{|}~]'''\n",
    "# lines[\"eng\"] = lines[\"eng\"].str.replace(PUNCTUATION_REGEX, r' \\g<0> ', regex=True)\n",
    "# lines[\"fra\"] = lines[\"fra\"].str.replace(PUNCTUATION_REGEX, r' \\g<0> ', regex=True)\n",
    "# lines['eng'] = lines['eng'].str.rstrip()\n",
    "# lines['fra'] = lines['fra'].str.rstrip()\n",
    "# lines['eng'] = lines['eng'].str.lower()\n",
    "# lines['fra'] = lines['fra'].str.lower()\n",
    "# - 만약에 루브릭 평가 관련 지표를 달성 하지 못했을 때, 이유에 관한 추정:\n",
    "# : 달성했다.\n",
    "# - 자기 다짐:\n",
    "# : 오늘도 잔다고 못낼 것 같아 새벽에 미리 적는다.... ex3 못낸게 너무 아쉽다."
   ]
  }
 ],
 "metadata": {
  "kernelspec": {
   "display_name": "Python 3 (ipykernel)",
   "language": "python",
   "name": "python3"
  },
  "language_info": {
   "codemirror_mode": {
    "name": "ipython",
    "version": 3
   },
   "file_extension": ".py",
   "mimetype": "text/x-python",
   "name": "python",
   "nbconvert_exporter": "python",
   "pygments_lexer": "ipython3",
   "version": "3.9.7"
  }
 },
 "nbformat": 4,
 "nbformat_minor": 5
}
