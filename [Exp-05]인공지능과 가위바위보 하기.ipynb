{
 "cells": [
  {
   "cell_type": "code",
   "execution_count": 1,
   "id": "c959c96c",
   "metadata": {},
   "outputs": [
    {
     "name": "stdout",
     "output_type": "stream",
     "text": [
      "2.6.0\n",
      "1.21.4\n"
     ]
    }
   ],
   "source": [
    "import tensorflow as tf\n",
    "import numpy as np\n",
    "\n",
    "print(tf.__version__)\n",
    "print(np.__version__)"
   ]
  },
  {
   "cell_type": "code",
   "execution_count": 2,
   "id": "e45dfeb0",
   "metadata": {},
   "outputs": [
    {
     "name": "stdout",
     "output_type": "stream",
     "text": [
      "PIL 라이브러리 import 완료!\n"
     ]
    }
   ],
   "source": [
    "from PIL import Image\n",
    "import glob\n",
    "import os\n",
    "\n",
    "print(\"PIL 라이브러리 import 완료!\")"
   ]
  },
  {
   "cell_type": "markdown",
   "id": "e17a9ddd",
   "metadata": {},
   "source": [
    "Data Resize"
   ]
  },
  {
   "cell_type": "code",
   "execution_count": 3,
   "id": "4bbd7eeb",
   "metadata": {},
   "outputs": [
    {
     "name": "stdout",
     "output_type": "stream",
     "text": [
      "1000  images to be resized.\n",
      "1000  images resized.\n",
      "가위 이미지 resize 완료!\n"
     ]
    }
   ],
   "source": [
    "def resize_images(img_path):\n",
    "\timages=glob.glob(img_path + \"/*.jpg\")  \n",
    "    \n",
    "\tprint(len(images), \" images to be resized.\")\n",
    "\n",
    "    # 파일마다 모두 28x28 사이즈로 바꾸어 저장합니다.\n",
    "\ttarget_size=(28,28)\n",
    "\tfor img in images:\n",
    "\t\told_img=Image.open(img)\n",
    "\t\tnew_img=old_img.resize(target_size,Image.ANTIALIAS)\n",
    "\t\tnew_img.save(img, \"JPEG\")\n",
    "    \n",
    "\tprint(len(images), \" images resized.\")\n",
    "\t\n",
    "# 가위 이미지가 저장된 디렉토리 아래의 모든 jpg 파일을 읽어들여서\n",
    "image_dir_path = os.getenv(\"HOME\") + \"/aiffel/newrsp/scissor\"\n",
    "resize_images(image_dir_path)\n",
    "\n",
    "print(\"가위 이미지 resize 완료!\")"
   ]
  },
  {
   "cell_type": "code",
   "execution_count": 4,
   "id": "fa28b543",
   "metadata": {},
   "outputs": [
    {
     "name": "stdout",
     "output_type": "stream",
     "text": [
      "1000  images to be resized.\n",
      "1000  images resized.\n",
      "바위 이미지 resize 완료!\n"
     ]
    }
   ],
   "source": [
    "def resize_images(img_path):\n",
    "\timages=glob.glob(img_path + \"/*.jpg\")  \n",
    "    \n",
    "\tprint(len(images), \" images to be resized.\")\n",
    "\n",
    "    # 파일마다 모두 28x28 사이즈로 바꾸어 저장합니다.\n",
    "\ttarget_size=(28,28)\n",
    "\tfor img in images:\n",
    "\t\told_img=Image.open(img)\n",
    "\t\tnew_img=old_img.resize(target_size,Image.ANTIALIAS)\n",
    "\t\tnew_img.save(img, \"JPEG\")\n",
    "    \n",
    "\tprint(len(images), \" images resized.\")\n",
    "\t\n",
    "# 가위 이미지가 저장된 디렉토리 아래의 모든 jpg 파일을 읽어들여서\n",
    "image_dir_path = os.getenv(\"HOME\") + \"/aiffel/newrsp/rock\"\n",
    "resize_images(image_dir_path)\n",
    "\n",
    "print(\"바위 이미지 resize 완료!\")"
   ]
  },
  {
   "cell_type": "code",
   "execution_count": 5,
   "id": "5cef7aac",
   "metadata": {},
   "outputs": [
    {
     "name": "stdout",
     "output_type": "stream",
     "text": [
      "1000  images to be resized.\n",
      "1000  images resized.\n",
      "보 이미지 resize 완료!\n"
     ]
    }
   ],
   "source": [
    "def resize_images(img_path):\n",
    "\timages=glob.glob(img_path + \"/*.jpg\")  \n",
    "    \n",
    "\tprint(len(images), \" images to be resized.\")\n",
    "\n",
    "\ttarget_size=(28,28)\n",
    "\tfor img in images:\n",
    "\t\told_img=Image.open(img)\n",
    "\t\tnew_img=old_img.resize(target_size,Image.ANTIALIAS)\n",
    "\t\tnew_img.save(img, \"JPEG\")\n",
    "    \n",
    "\tprint(len(images), \" images resized.\")\n",
    "\t\n",
    "# 가위 이미지가 저장된 디렉토리 아래의 모든 jpg 파일을 읽어들여서\n",
    "image_dir_path = os.getenv(\"HOME\") + \"/aiffel/newrsp/paper\"\n",
    "resize_images(image_dir_path)\n",
    "\n",
    "print(\"보 이미지 resize 완료!\")"
   ]
  },
  {
   "cell_type": "code",
   "execution_count": 6,
   "id": "425f7de4",
   "metadata": {},
   "outputs": [
    {
     "name": "stdout",
     "output_type": "stream",
     "text": [
      "학습데이터(x_train)의 이미지 개수는 3000 입니다.\n",
      "x_train shape: (3000, 28, 28, 3)\n",
      "y_train shape: (3000,)\n"
     ]
    }
   ],
   "source": [
    "import numpy as np\n",
    "\n",
    "def load_data(img_path, number_of_data=3000):  # 가위바위보 이미지 개수 총합에 주의하세요.\n",
    "    # 가위 : 0, 바위 : 1, 보 : 2\n",
    "    img_size=28\n",
    "    color=3\n",
    "    #이미지 데이터와 라벨(가위 : 0, 바위 : 1, 보 : 2) 데이터를 담을 행렬(matrix) 영역을 생성합니다.\n",
    "    imgs=np.zeros(number_of_data*img_size*img_size*color,dtype=np.int32).reshape(number_of_data,img_size,img_size,color)\n",
    "    labels=np.zeros(number_of_data,dtype=np.int32)\n",
    "\n",
    "    idx=0\n",
    "    for file in glob.iglob(img_path+'/scissor/*.jpg'):\n",
    "        img = np.array(Image.open(file),dtype=np.int32)\n",
    "        imgs[idx,:,:,:]=img    # 데이터 영역에 이미지 행렬을 복사\n",
    "        labels[idx]=0   # 가위 : 0\n",
    "        idx=idx+1\n",
    "\n",
    "    for file in glob.iglob(img_path+'/rock/*.jpg'):\n",
    "        img = np.array(Image.open(file),dtype=np.int32)\n",
    "        imgs[idx,:,:,:]=img    # 데이터 영역에 이미지 행렬을 복사\n",
    "        labels[idx]=1   # 바위 : 1\n",
    "        idx=idx+1  \n",
    "    \n",
    "    for file in glob.iglob(img_path+'/paper/*.jpg'):\n",
    "        img = np.array(Image.open(file),dtype=np.int32)\n",
    "        imgs[idx,:,:,:]=img    # 데이터 영역에 이미지 행렬을 복사\n",
    "        labels[idx]=2   # 보 : 2\n",
    "        idx=idx+1\n",
    "        \n",
    "    print(\"학습데이터(x_train)의 이미지 개수는\", idx,\"입니다.\")\n",
    "    return imgs, labels\n",
    "\n",
    "image_dir_path = os.getenv(\"HOME\") + \"/aiffel/newrsp\"\n",
    "(x_train, y_train)=load_data(image_dir_path)\n",
    "x_train_norm = x_train/255.0   # 입력은 0~1 사이의 값으로 정규화\n",
    "\n",
    "print(\"x_train shape: {}\".format(x_train.shape))\n",
    "print(\"y_train shape: {}\".format(y_train.shape))"
   ]
  },
  {
   "cell_type": "code",
   "execution_count": 7,
   "id": "d20755f1",
   "metadata": {},
   "outputs": [
    {
     "name": "stdout",
     "output_type": "stream",
     "text": [
      "라벨:  0\n"
     ]
    },
    {
     "data": {
      "image/png": "[encoded data removed]",
      "text/plain": [
       "<Figure size 432x288 with 1 Axes>"
      ]
     },
     "metadata": {
      "needs_background": "light"
     },
     "output_type": "display_data"
    }
   ],
   "source": [
    "import matplotlib.pyplot as plt\n",
    "import os\n",
    "\n",
    "plt.imshow(x_train[0])\n",
    "print('라벨: ', y_train[0])"
   ]
  },
  {
   "cell_type": "markdown",
   "id": "14d3700c",
   "metadata": {},
   "source": [
    "딥러닝 네트워크 설계"
   ]
  },
  {
   "cell_type": "code",
   "execution_count": 8,
   "id": "cf984315",
   "metadata": {},
   "outputs": [
    {
     "name": "stdout",
     "output_type": "stream",
     "text": [
      "Model에 추가된 Layer 개수:  7\n"
     ]
    }
   ],
   "source": [
    "import tensorflow as tf\n",
    "from tensorflow import keras\n",
    "import numpy as np\n",
    "\n",
    "model=keras.models.Sequential()\n",
    "model.add(keras.layers.Conv2D(16, (3,3), activation='relu', input_shape=(28,28,3)))\n",
    "model.add(keras.layers.MaxPool2D(2,2))\n",
    "model.add(keras.layers.Conv2D(32, (3,3), activation='relu'))\n",
    "model.add(keras.layers.MaxPooling2D((2,2)))\n",
    "model.add(keras.layers.Flatten())\n",
    "model.add(keras.layers.Dense(16, activation='relu'))\n",
    "model.add(keras.layers.Dense(3, activation='softmax'))\n",
    "\n",
    "print('Model에 추가된 Layer 개수: ', len(model.layers))"
   ]
  },
  {
   "cell_type": "code",
   "execution_count": 9,
   "id": "1daade81",
   "metadata": {},
   "outputs": [
    {
     "name": "stdout",
     "output_type": "stream",
     "text": [
      "Model: \"sequential\"\n",
      "_________________________________________________________________\n",
      "Layer (type)                 Output Shape              Param #   \n",
      "=================================================================\n",
      "conv2d (Conv2D)              (None, 26, 26, 16)        448       \n",
      "_________________________________________________________________\n",
      "max_pooling2d (MaxPooling2D) (None, 13, 13, 16)        0         \n",
      "_________________________________________________________________\n",
      "conv2d_1 (Conv2D)            (None, 11, 11, 32)        4640      \n",
      "_________________________________________________________________\n",
      "max_pooling2d_1 (MaxPooling2 (None, 5, 5, 32)          0         \n",
      "_________________________________________________________________\n",
      "flatten (Flatten)            (None, 800)               0         \n",
      "_________________________________________________________________\n",
      "dense (Dense)                (None, 16)                12816     \n",
      "_________________________________________________________________\n",
      "dense_1 (Dense)              (None, 3)                 51        \n",
      "=================================================================\n",
      "Total params: 17,955\n",
      "Trainable params: 17,955\n",
      "Non-trainable params: 0\n",
      "_________________________________________________________________\n"
     ]
    }
   ],
   "source": [
    "model.summary()"
   ]
  },
  {
   "cell_type": "markdown",
   "id": "6febc2ff",
   "metadata": {},
   "source": [
    "Test Data Resize"
   ]
  },
  {
   "cell_type": "code",
   "execution_count": 10,
   "id": "2a61ece4",
   "metadata": {},
   "outputs": [
    {
     "name": "stdout",
     "output_type": "stream",
     "text": [
      "100  images to be resized.\n",
      "100  images resized.\n",
      "가위 이미지 resize 완료!\n"
     ]
    }
   ],
   "source": [
    "def resize_images(img_path):\n",
    "\timages=glob.glob(img_path + \"/*.jpg\")  \n",
    "    \n",
    "\tprint(len(images), \" images to be resized.\")\n",
    "\n",
    "    # 파일마다 모두 28x28 사이즈로 바꾸어 저장합니다.\n",
    "\ttarget_size=(28,28)\n",
    "\tfor img in images:\n",
    "\t\told_img=Image.open(img)\n",
    "\t\tnew_img=old_img.resize(target_size,Image.ANTIALIAS)\n",
    "\t\tnew_img.save(img, \"JPEG\")\n",
    "    \n",
    "\tprint(len(images), \" images resized.\")\n",
    "\t\n",
    "# 가위 이미지가 저장된 디렉토리 아래의 모든 jpg 파일을 읽어들여서\n",
    "image_dir_path = os.getenv(\"HOME\") + \"/aiffel/newrsp/test/scissor\"\n",
    "resize_images(image_dir_path)\n",
    "\n",
    "print(\"가위 이미지 resize 완료!\")"
   ]
  },
  {
   "cell_type": "code",
   "execution_count": 11,
   "id": "e374a0e5",
   "metadata": {},
   "outputs": [
    {
     "name": "stdout",
     "output_type": "stream",
     "text": [
      "100  images to be resized.\n",
      "100  images resized.\n",
      "바위 이미지 resize 완료!\n"
     ]
    }
   ],
   "source": [
    "def resize_images(img_path):\n",
    "\timages=glob.glob(img_path + \"/*.jpg\")  \n",
    "    \n",
    "\tprint(len(images), \" images to be resized.\")\n",
    "\n",
    "    # 파일마다 모두 28x28 사이즈로 바꾸어 저장합니다.\n",
    "\ttarget_size=(28,28)\n",
    "\tfor img in images:\n",
    "\t\told_img=Image.open(img)\n",
    "\t\tnew_img=old_img.resize(target_size,Image.ANTIALIAS)\n",
    "\t\tnew_img.save(img, \"JPEG\")\n",
    "    \n",
    "\tprint(len(images), \" images resized.\")\n",
    "\t\n",
    "# 가위 이미지가 저장된 디렉토리 아래의 모든 jpg 파일을 읽어들여서\n",
    "image_dir_path = os.getenv(\"HOME\") + \"/aiffel/newrsp/test/rock\"\n",
    "resize_images(image_dir_path)\n",
    "\n",
    "print(\"바위 이미지 resize 완료!\")"
   ]
  },
  {
   "cell_type": "code",
   "execution_count": 12,
   "id": "de935c4d",
   "metadata": {},
   "outputs": [
    {
     "name": "stdout",
     "output_type": "stream",
     "text": [
      "100  images to be resized.\n",
      "100  images resized.\n",
      "보 이미지 resize 완료!\n"
     ]
    }
   ],
   "source": [
    "def resize_images(img_path):\n",
    "\timages=glob.glob(img_path + \"/*.jpg\")  \n",
    "    \n",
    "\tprint(len(images), \" images to be resized.\")\n",
    "\n",
    "\ttarget_size=(28,28)\n",
    "\tfor img in images:\n",
    "\t\told_img=Image.open(img)\n",
    "\t\tnew_img=old_img.resize(target_size,Image.ANTIALIAS)\n",
    "\t\tnew_img.save(img, \"JPEG\")\n",
    "    \n",
    "\tprint(len(images), \" images resized.\")\n",
    "\t\n",
    "# 가위 이미지가 저장된 디렉토리 아래의 모든 jpg 파일을 읽어들여서\n",
    "image_dir_path = os.getenv(\"HOME\") + \"/aiffel/newrsp/test/paper\"\n",
    "resize_images(image_dir_path)\n",
    "\n",
    "print(\"보 이미지 resize 완료!\")"
   ]
  },
  {
   "cell_type": "code",
   "execution_count": 13,
   "id": "bbb63728",
   "metadata": {},
   "outputs": [
    {
     "name": "stdout",
     "output_type": "stream",
     "text": [
      "학습데이터(x_train)의 이미지 개수는 300 입니다.\n",
      "x_test shape: (300, 28, 28, 3)\n",
      "y_test shape: (300,)\n"
     ]
    }
   ],
   "source": [
    "import numpy as np\n",
    "\n",
    "def load_data(img_path, number_of_data=300):  \n",
    "    # 가위 : 0, 바위 : 1, 보 : 2\n",
    "    img_size=28\n",
    "    color=3\n",
    "    imgs=np.zeros(number_of_data*img_size*img_size*color,dtype=np.int32).reshape(number_of_data,img_size,img_size,color)\n",
    "    labels=np.zeros(number_of_data,dtype=np.int32)\n",
    "\n",
    "    idx=0\n",
    "    for file in glob.iglob(img_path+'/scissor/*.jpg'):\n",
    "        img = np.array(Image.open(file),dtype=np.int32)\n",
    "        imgs[idx,:,:,:]=img  \n",
    "        labels[idx]=0  \n",
    "        idx=idx+1\n",
    "\n",
    "    for file in glob.iglob(img_path+'/rock/*.jpg'):\n",
    "        img = np.array(Image.open(file),dtype=np.int32)\n",
    "        imgs[idx,:,:,:]=img   \n",
    "        labels[idx]=1  \n",
    "        idx=idx+1  \n",
    "    \n",
    "    for file in glob.iglob(img_path+'/paper/*.jpg'):\n",
    "        img = np.array(Image.open(file),dtype=np.int32)\n",
    "        imgs[idx,:,:,:]=img    \n",
    "        labels[idx]=2   \n",
    "        idx=idx+1\n",
    "        \n",
    "    print(\"학습데이터(x_train)의 이미지 개수는\", idx,\"입니다.\")\n",
    "    return imgs, labels\n",
    "\n",
    "image_dir_path = os.getenv(\"HOME\") + \"/aiffel/newrsp/test\"\n",
    "(x_test, y_test)=load_data(image_dir_path)\n",
    "x_test_norm = x_test/255.0  \n",
    "\n",
    "print(\"x_test shape: {}\".format(x_test.shape))\n",
    "print(\"y_test shape: {}\".format(y_test.shape))"
   ]
  },
  {
   "cell_type": "code",
   "execution_count": 14,
   "id": "d0a86187",
   "metadata": {
    "scrolled": true
   },
   "outputs": [
    {
     "name": "stdout",
     "output_type": "stream",
     "text": [
      "Before Reshape - x_train_norm shape: (3000, 28, 28, 3)\n",
      "Before Reshape - x_test_norm shape: (300, 28, 28, 3)\n",
      "After Reshape - x_train_reshaped shape: (3000, 28, 28, 3)\n",
      "After Reshape - x_test_reshaped shape: (300, 28, 28, 3)\n"
     ]
    }
   ],
   "source": [
    "print(f\"Before Reshape - x_train_norm shape: {x_train_norm.shape}\")\n",
    "print(f\"Before Reshape - x_test_norm shape: {x_test_norm.shape}\")\n",
    "\n",
    "x_train_reshaped=x_train_norm.reshape( -1, 28, 28, 3)  # 데이터갯수에 -1을 쓰면 reshape시 자동계산됩니다.\n",
    "x_test_reshaped=x_test_norm.reshape( -1, 28, 28, 3)\n",
    "\n",
    "print(f\"After Reshape - x_train_reshaped shape: {x_train_reshaped.shape}\")\n",
    "print(f\"After Reshape - x_test_reshaped shape: {x_test_reshaped.shape}\")"
   ]
  },
  {
   "cell_type": "markdown",
   "id": "ec0840d5",
   "metadata": {},
   "source": [
    "SGD import"
   ]
  },
  {
   "cell_type": "code",
   "execution_count": 15,
   "id": "18efe05c",
   "metadata": {},
   "outputs": [],
   "source": [
    "sgd = tf.keras.optimizers.SGD(learning_rate =1e-4)"
   ]
  },
  {
   "cell_type": "markdown",
   "id": "b1f686d3",
   "metadata": {},
   "source": [
    "모델 학습하기"
   ]
  },
  {
   "cell_type": "code",
   "execution_count": 16,
   "id": "eae20e16",
   "metadata": {
    "scrolled": false
   },
   "outputs": [
    {
     "name": "stdout",
     "output_type": "stream",
     "text": [
      "Epoch 1/100\n",
      "15/15 [==============================] - 6s 7ms/step - loss: 1.1096 - accuracy: 0.3017\n",
      "Epoch 2/100\n",
      "15/15 [==============================] - 0s 7ms/step - loss: 1.1093 - accuracy: 0.3063\n",
      "Epoch 3/100\n",
      "15/15 [==============================] - 0s 7ms/step - loss: 1.1090 - accuracy: 0.3097\n",
      "Epoch 4/100\n",
      "15/15 [==============================] - 0s 7ms/step - loss: 1.1087 - accuracy: 0.3160\n",
      "Epoch 5/100\n",
      "15/15 [==============================] - 0s 7ms/step - loss: 1.1083 - accuracy: 0.3197\n",
      "Epoch 6/100\n",
      "15/15 [==============================] - 0s 7ms/step - loss: 1.1079 - accuracy: 0.3240\n",
      "Epoch 7/100\n",
      "15/15 [==============================] - 0s 7ms/step - loss: 1.1074 - accuracy: 0.3297\n",
      "Epoch 8/100\n",
      "15/15 [==============================] - 0s 7ms/step - loss: 1.1070 - accuracy: 0.3337\n",
      "Epoch 9/100\n",
      "15/15 [==============================] - 0s 7ms/step - loss: 1.1065 - accuracy: 0.3390\n",
      "Epoch 10/100\n",
      "15/15 [==============================] - 0s 7ms/step - loss: 1.1060 - accuracy: 0.3423\n",
      "Epoch 11/100\n",
      "15/15 [==============================] - 0s 7ms/step - loss: 1.1055 - accuracy: 0.3497\n",
      "Epoch 12/100\n",
      "15/15 [==============================] - 0s 7ms/step - loss: 1.1050 - accuracy: 0.3517\n",
      "Epoch 13/100\n",
      "15/15 [==============================] - 0s 7ms/step - loss: 1.1045 - accuracy: 0.3567\n",
      "Epoch 14/100\n",
      "15/15 [==============================] - 0s 7ms/step - loss: 1.1041 - accuracy: 0.3603\n",
      "Epoch 15/100\n",
      "15/15 [==============================] - 0s 7ms/step - loss: 1.1036 - accuracy: 0.3653\n",
      "Epoch 16/100\n",
      "15/15 [==============================] - 0s 6ms/step - loss: 1.1033 - accuracy: 0.3677\n",
      "Epoch 17/100\n",
      "15/15 [==============================] - 0s 7ms/step - loss: 1.1029 - accuracy: 0.3700\n",
      "Epoch 18/100\n",
      "15/15 [==============================] - 0s 6ms/step - loss: 1.1026 - accuracy: 0.3757\n",
      "Epoch 19/100\n",
      "15/15 [==============================] - 0s 7ms/step - loss: 1.1023 - accuracy: 0.3810\n",
      "Epoch 20/100\n",
      "15/15 [==============================] - 0s 6ms/step - loss: 1.1020 - accuracy: 0.3850\n",
      "Epoch 21/100\n",
      "15/15 [==============================] - 0s 7ms/step - loss: 1.1017 - accuracy: 0.3900\n",
      "Epoch 22/100\n",
      "15/15 [==============================] - 0s 7ms/step - loss: 1.1015 - accuracy: 0.3960\n",
      "Epoch 23/100\n",
      "15/15 [==============================] - 0s 7ms/step - loss: 1.1013 - accuracy: 0.3993\n",
      "Epoch 24/100\n",
      "15/15 [==============================] - 0s 7ms/step - loss: 1.1010 - accuracy: 0.4047\n",
      "Epoch 25/100\n",
      "15/15 [==============================] - 0s 7ms/step - loss: 1.1008 - accuracy: 0.4067\n",
      "Epoch 26/100\n",
      "15/15 [==============================] - 0s 7ms/step - loss: 1.1006 - accuracy: 0.4100\n",
      "Epoch 27/100\n",
      "15/15 [==============================] - 0s 7ms/step - loss: 1.1004 - accuracy: 0.4120\n",
      "Epoch 28/100\n",
      "15/15 [==============================] - 0s 7ms/step - loss: 1.1002 - accuracy: 0.4157\n",
      "Epoch 29/100\n",
      "15/15 [==============================] - 0s 7ms/step - loss: 1.1000 - accuracy: 0.4173\n",
      "Epoch 30/100\n",
      "15/15 [==============================] - 0s 7ms/step - loss: 1.0999 - accuracy: 0.4193\n",
      "Epoch 31/100\n",
      "15/15 [==============================] - 0s 7ms/step - loss: 1.0997 - accuracy: 0.4227\n",
      "Epoch 32/100\n",
      "15/15 [==============================] - 0s 6ms/step - loss: 1.0995 - accuracy: 0.4253\n",
      "Epoch 33/100\n",
      "15/15 [==============================] - 0s 7ms/step - loss: 1.0993 - accuracy: 0.4270\n",
      "Epoch 34/100\n",
      "15/15 [==============================] - 0s 7ms/step - loss: 1.0992 - accuracy: 0.4290\n",
      "Epoch 35/100\n",
      "15/15 [==============================] - 0s 7ms/step - loss: 1.0990 - accuracy: 0.4310\n",
      "Epoch 36/100\n",
      "15/15 [==============================] - 0s 7ms/step - loss: 1.0988 - accuracy: 0.4310\n",
      "Epoch 37/100\n",
      "15/15 [==============================] - 0s 7ms/step - loss: 1.0987 - accuracy: 0.4340\n",
      "Epoch 38/100\n",
      "15/15 [==============================] - 0s 7ms/step - loss: 1.0985 - accuracy: 0.4373\n",
      "Epoch 39/100\n",
      "15/15 [==============================] - 0s 7ms/step - loss: 1.0984 - accuracy: 0.4377\n",
      "Epoch 40/100\n",
      "15/15 [==============================] - 0s 7ms/step - loss: 1.0982 - accuracy: 0.4400\n",
      "Epoch 41/100\n",
      "15/15 [==============================] - 0s 7ms/step - loss: 1.0981 - accuracy: 0.4417\n",
      "Epoch 42/100\n",
      "15/15 [==============================] - 0s 7ms/step - loss: 1.0979 - accuracy: 0.4423\n",
      "Epoch 43/100\n",
      "15/15 [==============================] - 0s 7ms/step - loss: 1.0978 - accuracy: 0.4447\n",
      "Epoch 44/100\n",
      "15/15 [==============================] - 0s 7ms/step - loss: 1.0976 - accuracy: 0.4460\n",
      "Epoch 45/100\n",
      "15/15 [==============================] - 0s 7ms/step - loss: 1.0975 - accuracy: 0.4480\n",
      "Epoch 46/100\n",
      "15/15 [==============================] - 0s 7ms/step - loss: 1.0973 - accuracy: 0.4490\n",
      "Epoch 47/100\n",
      "15/15 [==============================] - 0s 6ms/step - loss: 1.0972 - accuracy: 0.4500\n",
      "Epoch 48/100\n",
      "15/15 [==============================] - 0s 7ms/step - loss: 1.0970 - accuracy: 0.4520\n",
      "Epoch 49/100\n",
      "15/15 [==============================] - 0s 7ms/step - loss: 1.0969 - accuracy: 0.4523\n",
      "Epoch 50/100\n",
      "15/15 [==============================] - 0s 7ms/step - loss: 1.0967 - accuracy: 0.4543\n",
      "Epoch 51/100\n",
      "15/15 [==============================] - 0s 7ms/step - loss: 1.0966 - accuracy: 0.4547\n",
      "Epoch 52/100\n",
      "15/15 [==============================] - 0s 7ms/step - loss: 1.0964 - accuracy: 0.4567\n",
      "Epoch 53/100\n",
      "15/15 [==============================] - 0s 6ms/step - loss: 1.0963 - accuracy: 0.4580\n",
      "Epoch 54/100\n",
      "15/15 [==============================] - 0s 7ms/step - loss: 1.0961 - accuracy: 0.4600\n",
      "Epoch 55/100\n",
      "15/15 [==============================] - 0s 7ms/step - loss: 1.0960 - accuracy: 0.4603\n",
      "Epoch 56/100\n",
      "15/15 [==============================] - 0s 7ms/step - loss: 1.0958 - accuracy: 0.4627\n",
      "Epoch 57/100\n",
      "15/15 [==============================] - 0s 6ms/step - loss: 1.0957 - accuracy: 0.4653\n",
      "Epoch 58/100\n",
      "15/15 [==============================] - 0s 7ms/step - loss: 1.0956 - accuracy: 0.4657\n",
      "Epoch 59/100\n",
      "15/15 [==============================] - 0s 7ms/step - loss: 1.0954 - accuracy: 0.4677\n",
      "Epoch 60/100\n",
      "15/15 [==============================] - 0s 7ms/step - loss: 1.0953 - accuracy: 0.4697\n",
      "Epoch 61/100\n",
      "15/15 [==============================] - 0s 7ms/step - loss: 1.0951 - accuracy: 0.4710\n",
      "Epoch 62/100\n",
      "15/15 [==============================] - 0s 7ms/step - loss: 1.0950 - accuracy: 0.4720\n",
      "Epoch 63/100\n",
      "15/15 [==============================] - 0s 7ms/step - loss: 1.0948 - accuracy: 0.4740\n",
      "Epoch 64/100\n",
      "15/15 [==============================] - 0s 7ms/step - loss: 1.0947 - accuracy: 0.4747\n",
      "Epoch 65/100\n",
      "15/15 [==============================] - 0s 7ms/step - loss: 1.0945 - accuracy: 0.4777\n",
      "Epoch 66/100\n",
      "15/15 [==============================] - 0s 7ms/step - loss: 1.0944 - accuracy: 0.4793\n",
      "Epoch 67/100\n",
      "15/15 [==============================] - 0s 7ms/step - loss: 1.0942 - accuracy: 0.4800\n",
      "Epoch 68/100\n",
      "15/15 [==============================] - 0s 7ms/step - loss: 1.0941 - accuracy: 0.4810\n",
      "Epoch 69/100\n",
      "15/15 [==============================] - 0s 7ms/step - loss: 1.0939 - accuracy: 0.4830\n",
      "Epoch 70/100\n",
      "15/15 [==============================] - 0s 6ms/step - loss: 1.0938 - accuracy: 0.4847\n",
      "Epoch 71/100\n",
      "15/15 [==============================] - 0s 7ms/step - loss: 1.0936 - accuracy: 0.4860\n",
      "Epoch 72/100\n",
      "15/15 [==============================] - 0s 6ms/step - loss: 1.0935 - accuracy: 0.4870\n",
      "Epoch 73/100\n",
      "15/15 [==============================] - 0s 7ms/step - loss: 1.0933 - accuracy: 0.4887\n",
      "Epoch 74/100\n",
      "15/15 [==============================] - 0s 7ms/step - loss: 1.0932 - accuracy: 0.4893\n",
      "Epoch 75/100\n",
      "15/15 [==============================] - 0s 7ms/step - loss: 1.0930 - accuracy: 0.4910\n",
      "Epoch 76/100\n",
      "15/15 [==============================] - 0s 6ms/step - loss: 1.0929 - accuracy: 0.4917\n",
      "Epoch 77/100\n",
      "15/15 [==============================] - 0s 7ms/step - loss: 1.0927 - accuracy: 0.4937\n",
      "Epoch 78/100\n",
      "15/15 [==============================] - 0s 7ms/step - loss: 1.0926 - accuracy: 0.4947\n",
      "Epoch 79/100\n",
      "15/15 [==============================] - 0s 6ms/step - loss: 1.0924 - accuracy: 0.4973\n",
      "Epoch 80/100\n",
      "15/15 [==============================] - 0s 7ms/step - loss: 1.0923 - accuracy: 0.4967\n",
      "Epoch 81/100\n",
      "15/15 [==============================] - 0s 6ms/step - loss: 1.0921 - accuracy: 0.4973\n",
      "Epoch 82/100\n",
      "15/15 [==============================] - 0s 7ms/step - loss: 1.0920 - accuracy: 0.4993\n",
      "Epoch 83/100\n",
      "15/15 [==============================] - 0s 7ms/step - loss: 1.0919 - accuracy: 0.5010\n",
      "Epoch 84/100\n",
      "15/15 [==============================] - 0s 7ms/step - loss: 1.0917 - accuracy: 0.5027\n",
      "Epoch 85/100\n",
      "15/15 [==============================] - 0s 6ms/step - loss: 1.0916 - accuracy: 0.5037\n",
      "Epoch 86/100\n",
      "15/15 [==============================] - 0s 7ms/step - loss: 1.0914 - accuracy: 0.5053\n",
      "Epoch 87/100\n",
      "15/15 [==============================] - 0s 7ms/step - loss: 1.0913 - accuracy: 0.5057\n",
      "Epoch 88/100\n",
      "15/15 [==============================] - 0s 7ms/step - loss: 1.0912 - accuracy: 0.5073\n",
      "Epoch 89/100\n",
      "15/15 [==============================] - 0s 7ms/step - loss: 1.0910 - accuracy: 0.5080\n",
      "Epoch 90/100\n",
      "15/15 [==============================] - 0s 7ms/step - loss: 1.0909 - accuracy: 0.5087\n",
      "Epoch 91/100\n",
      "15/15 [==============================] - 0s 7ms/step - loss: 1.0908 - accuracy: 0.5103\n",
      "Epoch 92/100\n",
      "15/15 [==============================] - 0s 7ms/step - loss: 1.0906 - accuracy: 0.5117\n",
      "Epoch 93/100\n",
      "15/15 [==============================] - 0s 7ms/step - loss: 1.0905 - accuracy: 0.5127\n",
      "Epoch 94/100\n",
      "15/15 [==============================] - 0s 7ms/step - loss: 1.0904 - accuracy: 0.5140\n",
      "Epoch 95/100\n",
      "15/15 [==============================] - 0s 7ms/step - loss: 1.0902 - accuracy: 0.5150\n",
      "Epoch 96/100\n",
      "15/15 [==============================] - 0s 7ms/step - loss: 1.0901 - accuracy: 0.5167\n",
      "Epoch 97/100\n",
      "15/15 [==============================] - 0s 7ms/step - loss: 1.0900 - accuracy: 0.5180\n",
      "Epoch 98/100\n",
      "15/15 [==============================] - 0s 7ms/step - loss: 1.0899 - accuracy: 0.5193\n",
      "Epoch 99/100\n",
      "15/15 [==============================] - 0s 7ms/step - loss: 1.0897 - accuracy: 0.5197\n",
      "Epoch 100/100\n",
      "15/15 [==============================] - 0s 7ms/step - loss: 1.0896 - accuracy: 0.5210\n"
     ]
    },
    {
     "data": {
      "text/plain": [
       "<keras.callbacks.History at 0x7eff97b08e80>"
      ]
     },
     "execution_count": 16,
     "metadata": {},
     "output_type": "execute_result"
    }
   ],
   "source": [
    "model.compile(optimizer=sgd,\n",
    "             loss='sparse_categorical_crossentropy',\n",
    "             metrics=['accuracy'])\n",
    "\n",
    "model.fit(x_train_reshaped, y_train, batch_size=200, epochs=100)"
   ]
  },
  {
   "cell_type": "markdown",
   "id": "cac5607b",
   "metadata": {},
   "source": [
    "성능 확인"
   ]
  },
  {
   "cell_type": "code",
   "execution_count": 17,
   "id": "341036d2",
   "metadata": {},
   "outputs": [
    {
     "name": "stdout",
     "output_type": "stream",
     "text": [
      "10/10 - 1s - loss: 1.1108 - accuracy: 0.0267\n",
      "test_loss: 1.1108345985412598\n",
      "test_accuracy: 0.02666666731238365\n"
     ]
    }
   ],
   "source": [
    "test_loss, test_accuracy = model.evaluate(x_test_reshaped,y_test, verbose=2)\n",
    "print(f\"test_loss: {test_loss}\")\n",
    "print(f\"test_accuracy: {test_accuracy}\")"
   ]
  },
  {
   "cell_type": "code",
   "execution_count": 18,
   "id": "5ccd491d",
   "metadata": {},
   "outputs": [
    {
     "name": "stdout",
     "output_type": "stream",
     "text": [
      "model.predict() 결과 :  [0.31763983 0.33877409 0.34358606]\n",
      "model이 추론한 가장 가능성이 높은 결과 :  2\n",
      "실제 데이터의 라벨 :  0\n"
     ]
    }
   ],
   "source": [
    "predicted_result = model.predict(x_test_reshaped)\n",
    "predicted_labels = np.argmax(predicted_result, axis=1)\n",
    "\n",
    "idx=0  \n",
    "print('model.predict() 결과 : ', predicted_result[idx])\n",
    "print('model이 추론한 가장 가능성이 높은 결과 : ', predicted_labels[idx])\n",
    "print('실제 데이터의 라벨 : ', y_test[idx])"
   ]
  },
  {
   "cell_type": "code",
   "execution_count": 19,
   "id": "b049287c",
   "metadata": {
    "scrolled": true
   },
   "outputs": [
    {
     "data": {
      "image/png": "[encoded data removed]",
      "text/plain": [
       "<Figure size 432x288 with 1 Axes>"
      ]
     },
     "metadata": {
      "needs_background": "light"
     },
     "output_type": "display_data"
    }
   ],
   "source": [
    "plt.imshow(x_test[idx],cmap=plt.cm.binary)\n",
    "plt.show()"
   ]
  },
  {
   "cell_type": "markdown",
   "id": "1eeaf592",
   "metadata": {},
   "source": [
    "성능 개선"
   ]
  },
  {
   "cell_type": "code",
   "execution_count": 20,
   "id": "31f4d163",
   "metadata": {},
   "outputs": [
    {
     "name": "stdout",
     "output_type": "stream",
     "text": [
      "Model: \"sequential_1\"\n",
      "_________________________________________________________________\n",
      "Layer (type)                 Output Shape              Param #   \n",
      "=================================================================\n",
      "conv2d_2 (Conv2D)            (None, 26, 26, 16)        448       \n",
      "_________________________________________________________________\n",
      "max_pooling2d_2 (MaxPooling2 (None, 13, 13, 16)        0         \n",
      "_________________________________________________________________\n",
      "conv2d_3 (Conv2D)            (None, 11, 11, 32)        4640      \n",
      "_________________________________________________________________\n",
      "average_pooling2d (AveragePo (None, 5, 5, 32)          0         \n",
      "_________________________________________________________________\n",
      "conv2d_4 (Conv2D)            (None, 3, 3, 32)          9248      \n",
      "_________________________________________________________________\n",
      "average_pooling2d_1 (Average (None, 1, 1, 32)          0         \n",
      "_________________________________________________________________\n",
      "flatten_1 (Flatten)          (None, 32)                0         \n",
      "_________________________________________________________________\n",
      "dense_2 (Dense)              (None, 32)                1056      \n",
      "_________________________________________________________________\n",
      "dense_3 (Dense)              (None, 3)                 99        \n",
      "=================================================================\n",
      "Total params: 15,491\n",
      "Trainable params: 15,491\n",
      "Non-trainable params: 0\n",
      "_________________________________________________________________\n",
      "Epoch 1/20\n",
      "94/94 [==============================] - 3s 18ms/step - loss: 1.1061 - accuracy: 0.3053\n",
      "Epoch 2/20\n",
      "94/94 [==============================] - 1s 8ms/step - loss: 1.1041 - accuracy: 0.3227\n",
      "Epoch 3/20\n",
      "94/94 [==============================] - 1s 8ms/step - loss: 1.1022 - accuracy: 0.3437\n",
      "Epoch 4/20\n",
      "94/94 [==============================] - 1s 8ms/step - loss: 1.1005 - accuracy: 0.3567\n",
      "Epoch 5/20\n",
      "94/94 [==============================] - 1s 8ms/step - loss: 1.0984 - accuracy: 0.3733\n",
      "Epoch 6/20\n",
      "94/94 [==============================] - 1s 8ms/step - loss: 1.0960 - accuracy: 0.3787\n",
      "Epoch 7/20\n",
      "94/94 [==============================] - 1s 8ms/step - loss: 1.0946 - accuracy: 0.3803\n",
      "Epoch 8/20\n",
      "94/94 [==============================] - 1s 8ms/step - loss: 1.0936 - accuracy: 0.3843\n",
      "Epoch 9/20\n",
      "94/94 [==============================] - 1s 8ms/step - loss: 1.0928 - accuracy: 0.3973\n",
      "Epoch 10/20\n",
      "94/94 [==============================] - 1s 8ms/step - loss: 1.0919 - accuracy: 0.4070\n",
      "Epoch 11/20\n",
      "94/94 [==============================] - 1s 8ms/step - loss: 1.0910 - accuracy: 0.4137\n",
      "Epoch 12/20\n",
      "94/94 [==============================] - 1s 8ms/step - loss: 1.0901 - accuracy: 0.4227\n",
      "Epoch 13/20\n",
      "94/94 [==============================] - 1s 8ms/step - loss: 1.0892 - accuracy: 0.4290\n",
      "Epoch 14/20\n",
      "94/94 [==============================] - 1s 8ms/step - loss: 1.0884 - accuracy: 0.4360\n",
      "Epoch 15/20\n",
      "94/94 [==============================] - 1s 8ms/step - loss: 1.0876 - accuracy: 0.4373\n",
      "Epoch 16/20\n",
      "94/94 [==============================] - 1s 8ms/step - loss: 1.0869 - accuracy: 0.4400\n",
      "Epoch 17/20\n",
      "94/94 [==============================] - 1s 8ms/step - loss: 1.0861 - accuracy: 0.4440\n",
      "Epoch 18/20\n",
      "94/94 [==============================] - 1s 8ms/step - loss: 1.0854 - accuracy: 0.4493\n",
      "Epoch 19/20\n",
      "94/94 [==============================] - 1s 8ms/step - loss: 1.0846 - accuracy: 0.4560\n",
      "Epoch 20/20\n",
      "94/94 [==============================] - 1s 8ms/step - loss: 1.0839 - accuracy: 0.4543\n",
      "10/10 - 0s - loss: 1.0922 - accuracy: 0.6333\n",
      "test_loss: 1.0922021865844727 \n",
      "test_accuracy: 0.6333333253860474\n"
     ]
    }
   ],
   "source": [
    "tf.random.set_seed(2)\n",
    "\n",
    "n_channel_1=16\n",
    "n_channel_2=32\n",
    "n_dense=32\n",
    "n_train_epoch=20\n",
    "\n",
    "model=keras.models.Sequential()\n",
    "model.add(keras.layers.Conv2D(n_channel_1, (3,3), activation='relu', input_shape=(28,28,3)))\n",
    "model.add(keras.layers.MaxPool2D(2,2))\n",
    "model.add(keras.layers.Conv2D(n_channel_2, (3,3), activation='relu'))\n",
    "model.add(keras.layers.AveragePooling2D((2,2)))\n",
    "model.add(keras.layers.Conv2D(n_channel_2, (3,3), activation='relu'))\n",
    "model.add(keras.layers.AveragePooling2D((2,2)))\n",
    "model.add(keras.layers.Flatten())\n",
    "model.add(keras.layers.Dense(n_dense, activation='relu'))\n",
    "model.add(keras.layers.Dense(3, activation='softmax'))\n",
    "\n",
    "model.summary()\n",
    "model.compile(optimizer=sgd,\n",
    "             loss='sparse_categorical_crossentropy',\n",
    "             metrics=['accuracy'])\n",
    "\n",
    "# 모델 훈련\n",
    "hist = model.fit(x_train_reshaped, y_train, epochs=n_train_epoch)\n",
    "\n",
    "# 모델 시험\n",
    "test_loss, test_accuracy = model.evaluate(x_test_reshaped, y_test, verbose=2)\n",
    "print(f\"test_loss: {test_loss} \")\n",
    "print(f\"test_accuracy: {test_accuracy}\")"
   ]
  },
  {
   "cell_type": "markdown",
   "id": "65ea7252",
   "metadata": {},
   "source": [
    "loss, accuracy 값 그래프로 확인하기"
   ]
  },
  {
   "cell_type": "code",
   "execution_count": 21,
   "id": "e2e53ac3",
   "metadata": {},
   "outputs": [
    {
     "data": {
      "image/png": "[encoded data removed]",
      "text/plain": [
       "<Figure size 432x288 with 1 Axes>"
      ]
     },
     "metadata": {
      "needs_background": "light"
     },
     "output_type": "display_data"
    }
   ],
   "source": [
    "import matplotlib.pyplot as plt\n",
    "\n",
    "plt.plot((hist.history['loss']))\n",
    "plt.title('Loss')\n",
    "plt.show()"
   ]
  },
  {
   "cell_type": "code",
   "execution_count": 22,
   "id": "303ffc9c",
   "metadata": {},
   "outputs": [
    {
     "data": {
      "image/png": "[encoded data removed]",
      "text/plain": [
       "<Figure size 432x288 with 1 Axes>"
      ]
     },
     "metadata": {
      "needs_background": "light"
     },
     "output_type": "display_data"
    }
   ],
   "source": [
    "import matplotlib.pyplot as plt\n",
    "\n",
    "plt.plot((hist.history['accuracy']))\n",
    "plt.title('Accuracy')\n",
    "plt.show()"
   ]
  },
  {
   "cell_type": "code",
   "execution_count": 23,
   "id": "3638942d",
   "metadata": {},
   "outputs": [],
   "source": [
    "#회고\n",
    "#- 이번 프로젝트에서 어려웠던 점\n",
    "#: 정확도를 0.6대로 맞추는게 참 힘들었다. 대개 0.33~으로 떨어져 상하로 크게 떨어지는 하이퍼 파라미터 값을 찾는게 큰 숙제였고,\n",
    "#    tf.random.set_seed(2)를 통해 0.6을 넘은 값을 고정할 수 있었다!\n",
    "#- 프로젝트를 진행하면서 알아낸 점 혹은 아직 모호한 점\n",
    "#: 대개 0.33~으로 떨어진다 하였는데, 그 이유를 아직 파악해내지 못했다.\n",
    "#- 루브릭 평가 지표를 맞추기 위해 시도한 것들:\n",
    "#: n_dense, learning_rate의 수치를 손보고, 입력 사진의 양, 종류를 조정하였다.\n",
    "#- 만약에 루브릭 평가 관련 지표를 달성 하지 못했을 때, 이유에 관한 추정:\n",
    "#: 달성했다.\n",
    "#- 자기 다짐:\n",
    "#: 하면 된다."
   ]
  }
 ],
 "metadata": {
  "kernelspec": {
   "display_name": "Python 3 (ipykernel)",
   "language": "python",
   "name": "python3"
  },
  "language_info": {
   "codemirror_mode": {
    "name": "ipython",
    "version": 3
   },
   "file_extension": ".py",
   "mimetype": "text/x-python",
   "name": "python",
   "nbconvert_exporter": "python",
   "pygments_lexer": "ipython3",
   "version": "3.9.7"
  }
 },
 "nbformat": 4,
 "nbformat_minor": 5
}
